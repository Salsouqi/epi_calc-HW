{
 "cells": [
  {
   "cell_type": "code",
   "execution_count": 2,
   "id": "6e0b05f2",
   "metadata": {},
   "outputs": [
    {
     "name": "stdout",
     "output_type": "stream",
     "text": [
      "Population: 2660000\n",
      "Existing cases: 1211\n",
      "0.00045526315789473686\n"
     ]
    }
   ],
   "source": [
    "#prevalence\n",
    "population = int(input(\"Population: \"))\n",
    "existingcases = int(input(\"Existing cases: \"))\n",
    "prevalence = existingcases / population\n",
    "print(prevalence)"
   ]
  },
  {
   "cell_type": "code",
   "execution_count": 3,
   "id": "7dc1653d",
   "metadata": {},
   "outputs": [
    {
     "name": "stdout",
     "output_type": "stream",
     "text": [
      "New Cases: 248\n",
      "9.323308270676691e-05\n",
      "9.32330827067669\n"
     ]
    }
   ],
   "source": [
    "#incidence\n",
    "newcases = int(input(\"New Cases: \"))\n",
    "incidence = newcases / population\n",
    "print(incidence)\n",
    "print(incidence * 100000)"
   ]
  },
  {
   "cell_type": "code",
   "execution_count": 4,
   "id": "171f4365",
   "metadata": {},
   "outputs": [
    {
     "name": "stdout",
     "output_type": "stream",
     "text": [
      "Number of those who died: 1\n",
      "Number of those who had disease: 1466\n",
      "0.0006821282401091405\n",
      "68.21282401091405\n"
     ]
    }
   ],
   "source": [
    "#mortality rate\n",
    "dead = int(input(\"Number of those who died: \"))\n",
    "segment = int(input(\"Number of those who had disease: \"))\n",
    "mortalityrate = dead / segment\n",
    "print(mortalityrate)\n",
    "print(mortalityrate * 100000)"
   ]
  },
  {
   "cell_type": "code",
   "execution_count": 5,
   "id": "a276f5ad",
   "metadata": {},
   "outputs": [
    {
     "name": "stdout",
     "output_type": "stream",
     "text": [
      "Population: 100000\n",
      "Existing cases: 500\n",
      "0.005\n"
     ]
    }
   ],
   "source": [
    "#prevalence\n",
    "population = int(input(\"Population: \"))\n",
    "existingcases = int(input(\"Existing cases: \"))\n",
    "prevalence = existingcases / population\n",
    "print(prevalence)"
   ]
  },
  {
   "cell_type": "code",
   "execution_count": 6,
   "id": "2239b74e",
   "metadata": {},
   "outputs": [
    {
     "name": "stdout",
     "output_type": "stream",
     "text": [
      "New Cases: 2500\n",
      "0.025\n",
      "2500.0\n"
     ]
    }
   ],
   "source": [
    "#incidence\n",
    "newcases = int(input(\"New Cases: \"))\n",
    "incidence = newcases / population\n",
    "print(incidence)\n",
    "print(incidence * 100000)"
   ]
  },
  {
   "cell_type": "code",
   "execution_count": 7,
   "id": "33ff74b5",
   "metadata": {},
   "outputs": [
    {
     "name": "stdout",
     "output_type": "stream",
     "text": [
      "Number of those who died: 40\n",
      "Number of those who had disease: 3000\n",
      "0.013333333333333334\n",
      "1333.3333333333335\n"
     ]
    }
   ],
   "source": [
    "#mortality rate\n",
    "dead = int(input(\"Number of those who died: \"))\n",
    "segment = int(input(\"Number of those who had disease: \"))\n",
    "mortalityrate = dead / segment\n",
    "print(mortalityrate)\n",
    "print(mortalityrate * 100000)"
   ]
  },
  {
   "cell_type": "code",
   "execution_count": 8,
   "id": "e9e626e3",
   "metadata": {},
   "outputs": [
    {
     "name": "stdout",
     "output_type": "stream",
     "text": [
      "Population: 1780000\n",
      "Existing cases: 12000\n",
      "0.006741573033707865\n"
     ]
    }
   ],
   "source": [
    "#prevalence\n",
    "population = int(input(\"Population: \"))\n",
    "existingcases = int(input(\"Existing cases: \"))\n",
    "prevalence = existingcases / population\n",
    "print(prevalence)"
   ]
  },
  {
   "cell_type": "code",
   "execution_count": 9,
   "id": "f7f01eda",
   "metadata": {},
   "outputs": [
    {
     "name": "stdout",
     "output_type": "stream",
     "text": [
      "New Cases: 3000\n",
      "0.0016853932584269663\n",
      "168.53932584269663\n"
     ]
    }
   ],
   "source": [
    "#incidence\n",
    "newcases = int(input(\"New Cases: \"))\n",
    "incidence = newcases / population\n",
    "print(incidence)\n",
    "print(incidence * 100000)"
   ]
  },
  {
   "cell_type": "code",
   "execution_count": 10,
   "id": "ee8791aa",
   "metadata": {},
   "outputs": [
    {
     "name": "stdout",
     "output_type": "stream",
     "text": [
      "Number of those who died: 5\n",
      "Number of those who had disease: 15000\n",
      "0.0003333333333333333\n",
      "33.333333333333336\n"
     ]
    }
   ],
   "source": [
    "#mortality rate\n",
    "dead = int(input(\"Number of those who died: \"))\n",
    "segment = int(input(\"Number of those who had disease: \"))\n",
    "mortalityrate = dead / segment\n",
    "print(mortalityrate)\n",
    "print(mortalityrate * 100000)"
   ]
  },
  {
   "cell_type": "code",
   "execution_count": 12,
   "id": "82f54c39",
   "metadata": {},
   "outputs": [
    {
     "name": "stdout",
     "output_type": "stream",
     "text": [
      "49\n",
      "25\n"
     ]
    }
   ],
   "source": [
    "# years of potential life lost\n",
    "lifeexpectancy = 77\n",
    "ages = [28, 32, 37, 45, 52]\n",
    "print(lifeexpectancy - ages[0])\n",
    "print(lifeexpectancy - ages[4])"
   ]
  },
  {
   "cell_type": "code",
   "execution_count": 13,
   "id": "6b6e4027",
   "metadata": {},
   "outputs": [
    {
     "name": "stdout",
     "output_type": "stream",
     "text": [
      "37.0\n"
     ]
    }
   ],
   "source": [
    "lifelost = [49, 25]\n",
    "yppl = sum(lifelost) / len(lifelost)\n",
    "print(yppl)"
   ]
  }
 ],
 "metadata": {
  "kernelspec": {
   "display_name": "Python 3 (ipykernel)",
   "language": "python",
   "name": "python3"
  },
  "language_info": {
   "codemirror_mode": {
    "name": "ipython",
    "version": 3
   },
   "file_extension": ".py",
   "mimetype": "text/x-python",
   "name": "python",
   "nbconvert_exporter": "python",
   "pygments_lexer": "ipython3",
   "version": "3.11.4"
  }
 },
 "nbformat": 4,
 "nbformat_minor": 5
}
